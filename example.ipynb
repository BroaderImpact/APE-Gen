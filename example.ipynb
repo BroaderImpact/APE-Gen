{
 "cells": [
  {
   "cell_type": "code",
   "execution_count": 1,
   "metadata": {},
   "outputs": [],
   "source": [
    "import APE_Gen"
   ]
  },
  {
   "cell_type": "code",
   "execution_count": 3,
   "metadata": {},
   "outputs": [
    {
     "name": "stdout",
     "output_type": "stream",
     "text": [
      "Preparing peptide and MHC\n",
      "Peptide sequence: LLWTLVVLL\n",
      "Receptor class: HLA-A*02:01\n",
      "Aligning peptide anchors to MHC pockets\n",
      "Sampling peptide backbone\n",
      "Found RCD folder. Skipping this step\n",
      "Loading sampled conformations\n",
      "Num full confs: 39\n",
      "Saving filtered peptide confs\n",
      "Found peptide_confs.pdb, Please move to recompute.\n",
      "Num filtered confs: 16\n",
      "Average filtered energy: -21.0134997437\n",
      "Saving complete peptide-HLA complexes\n",
      "Found full_system_confs/ folder. Please move to recompute.\n",
      "energy of selected binding mode: -23.2795639 38\n",
      "Scoring/Minimizing with OpenMM ...\n",
      "Found full_system_confs/openmm-minimized folder. Please move to recompute.\n"
     ]
    },
    {
     "ename": "SystemExit",
     "evalue": "0",
     "output_type": "error",
     "traceback": [
      "An exception has occurred, use %tb to see the full traceback.\n",
      "\u001b[0;31mSystemExit\u001b[0m\u001b[0;31m:\u001b[0m 0\n"
     ]
    }
   ],
   "source": [
    "APE_Gen.main([\"LLWTLVVLL\", \"HLA-A*02:01\", \"-o\"])"
   ]
  },
  {
   "cell_type": "code",
   "execution_count": null,
   "metadata": {},
   "outputs": [],
   "source": []
  },
  {
   "cell_type": "code",
   "execution_count": null,
   "metadata": {},
   "outputs": [],
   "source": []
  },
  {
   "cell_type": "code",
   "execution_count": null,
   "metadata": {},
   "outputs": [],
   "source": []
  },
  {
   "cell_type": "code",
   "execution_count": null,
   "metadata": {},
   "outputs": [],
   "source": []
  }
 ],
 "metadata": {
  "kernelspec": {
   "display_name": "Python 3",
   "language": "python",
   "name": "python3"
  },
  "language_info": {
   "codemirror_mode": {
    "name": "ipython",
    "version": 3
   },
   "file_extension": ".py",
   "mimetype": "text/x-python",
   "name": "python",
   "nbconvert_exporter": "python",
   "pygments_lexer": "ipython3",
   "version": "3.6.7"
  }
 },
 "nbformat": 4,
 "nbformat_minor": 2
}
