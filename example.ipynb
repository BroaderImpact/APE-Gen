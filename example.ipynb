{
 "cells": [
  {
   "cell_type": "markdown",
   "metadata": {},
   "source": [
    "# APE-Gen Example"
   ]
  },
  {
   "cell_type": "code",
   "execution_count": 1,
   "metadata": {},
   "outputs": [
    {
     "name": "stdout",
     "output_type": "stream",
     "text": [
      "/home/jayveerabella/kavrakilab/APE-Gen/example\n"
     ]
    },
    {
     "data": {
      "text/plain": [
       "'/home/jayveerabella/kavrakilab/APE-Gen/example'"
      ]
     },
     "execution_count": 1,
     "metadata": {},
     "output_type": "execute_result"
    }
   ],
   "source": [
    "%cd example\n",
    "%pwd"
   ]
  },
  {
   "cell_type": "markdown",
   "metadata": {},
   "source": [
    "## 1. Input Preparation"
   ]
  },
  {
   "cell_type": "code",
   "execution_count": 2,
   "metadata": {},
   "outputs": [],
   "source": [
    "# Run this cell if ..."
   ]
  },
  {
   "cell_type": "code",
   "execution_count": null,
   "metadata": {},
   "outputs": [
    {
     "name": "stdout",
     "output_type": "stream",
     "text": [
      "Preparing receptor template\n",
      "Preparing target sequence\n",
      "Aligning target sequence with receptor template\n",
      "Aligning took 25.59980845451355 seconds.\n",
      "Creating model\n"
     ]
    }
   ],
   "source": [
    "# If HLA receptor needs to be modeled, run this cell\n",
    "import model_receptor\n",
    "model_receptor.main([\"A0201_alpha.txt\", \"3I6L.pdb\"])"
   ]
  },
  {
   "cell_type": "markdown",
   "metadata": {},
   "source": [
    "## 2. Generate Models"
   ]
  },
  {
   "cell_type": "code",
   "execution_count": 3,
   "metadata": {},
   "outputs": [
    {
     "name": "stdout",
     "output_type": "stream",
     "text": [
      "Preparing peptide and MHC\n",
      "Peptide sequence: LLWTLVVLL\n",
      "Receptor class: HLA-A*02:01\n",
      "Aligning peptide anchors to MHC pockets\n",
      "Sampling peptide backbone\n",
      "Found RCD folder. Skipping this step\n",
      "Loading sampled conformations\n",
      "Num full confs: 39\n",
      "Saving filtered peptide confs\n",
      "Found peptide_confs.pdb, Please move to recompute.\n",
      "Num filtered confs: 16\n",
      "Average filtered energy: -21.0134997437\n",
      "Saving complete peptide-HLA complexes\n",
      "Found full_system_confs/ folder. Please move to recompute.\n",
      "energy of selected binding mode: -23.2795639 38\n",
      "Scoring/Minimizing with OpenMM ...\n",
      "Found full_system_confs/openmm-minimized folder. Please move to recompute.\n"
     ]
    },
    {
     "ename": "SystemExit",
     "evalue": "0",
     "output_type": "error",
     "traceback": [
      "An exception has occurred, use %tb to see the full traceback.\n",
      "\u001b[0;31mSystemExit\u001b[0m\u001b[0;31m:\u001b[0m 0\n"
     ]
    },
    {
     "name": "stderr",
     "output_type": "stream",
     "text": [
      "/home/jabella/miniconda2/envs/py3/lib/python3.6/site-packages/IPython/core/interactiveshell.py:3333: UserWarning: To exit: use 'exit', 'quit', or Ctrl-D.\n",
      "  warn(\"To exit: use 'exit', 'quit', or Ctrl-D.\", stacklevel=1)\n"
     ]
    }
   ],
   "source": [
    "import APE_Gen\n",
    "APE_Gen.main([\"LLWTLVVLL\", \"HLA-A*02:01\", \"-o\"])"
   ]
  },
  {
   "cell_type": "markdown",
   "metadata": {},
   "source": [
    "## 3. Postprocessing / Visualization"
   ]
  },
  {
   "cell_type": "code",
   "execution_count": 4,
   "metadata": {},
   "outputs": [
    {
     "data": {
      "application/vnd.jupyter.widget-view+json": {
       "model_id": "12ccc54f8f6345739f6323a3b9e920c1",
       "version_major": 2,
       "version_minor": 0
      },
      "text/plain": [
       "NGLWidget()"
      ]
     },
     "metadata": {},
     "output_type": "display_data"
    }
   ],
   "source": [
    "import nglview\n",
    "import glob\n",
    "import mdtraj as md\n",
    "from matplotlib.colors import to_hex\n",
    "import matplotlib as mpl\n",
    "\n",
    "widget = nglview.NGLWidget()\n",
    "widget.clear_representations()\n",
    "\n",
    "structure = glob.glob(\"0/*.pdb\")[0]\n",
    "s = md.load(structure)\n",
    "\n",
    "#widget.add_structure(s[0])\n",
    "widget.add_trajectory(s)\n",
    "#comp.add_licorice()\n",
    "\n",
    "widget"
   ]
  },
  {
   "cell_type": "code",
   "execution_count": null,
   "metadata": {},
   "outputs": [],
   "source": []
  },
  {
   "cell_type": "code",
   "execution_count": null,
   "metadata": {},
   "outputs": [],
   "source": []
  },
  {
   "cell_type": "code",
   "execution_count": null,
   "metadata": {},
   "outputs": [],
   "source": []
  }
 ],
 "metadata": {
  "kernelspec": {
   "display_name": "Python 3",
   "language": "python",
   "name": "python3"
  },
  "language_info": {
   "codemirror_mode": {
    "name": "ipython",
    "version": 3
   },
   "file_extension": ".py",
   "mimetype": "text/x-python",
   "name": "python",
   "nbconvert_exporter": "python",
   "pygments_lexer": "ipython3",
   "version": "3.6.7"
  }
 },
 "nbformat": 4,
 "nbformat_minor": 2
}
